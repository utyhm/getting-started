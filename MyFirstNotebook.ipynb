{
 "cells": [
  {
   "cell_type": "code",
   "execution_count": 3,
   "metadata": {},
   "outputs": [
    {
     "name": "stdout",
     "output_type": "stream",
     "text": [
      "Hello Word\n",
      "Indizes, die die Bedingung erfüllen: [0 2 5]\n"
     ]
    }
   ],
   "source": [
    "print(\"Hello Word\")\n",
    "\n",
    "import numpy as np\n",
    "\n",
    "# Beispiel-Array\n",
    "transmitted_1 = np.array([1.5, 2.3, 0.7, 1.9, 3.0, 1.0])\n",
    "\n",
    "# Threshold-Wert\n",
    "current_threshold = 1.8\n",
    "\n",
    "# Suche nach Indizes, bei denen transmitted_1 <= current_threshold\n",
    "indices = np.where(transmitted_1 <= current_threshold)[0]\n",
    "\n",
    "print(\"Indizes, die die Bedingung erfüllen:\", indices)\n"
   ]
  },
  {
   "cell_type": "code",
   "execution_count": null,
   "metadata": {},
   "outputs": [],
   "source": []
  }
 ],
 "metadata": {
  "kernelspec": {
   "display_name": "Python 3",
   "language": "python",
   "name": "python3"
  },
  "language_info": {
   "codemirror_mode": {
    "name": "ipython",
    "version": 3
   },
   "file_extension": ".py",
   "mimetype": "text/x-python",
   "name": "python",
   "nbconvert_exporter": "python",
   "pygments_lexer": "ipython3",
   "version": "3.12.3"
  }
 },
 "nbformat": 4,
 "nbformat_minor": 2
}
